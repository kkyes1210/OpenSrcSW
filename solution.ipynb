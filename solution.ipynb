{
 "cells": [
  {
   "cell_type": "code",
   "execution_count": 45,
   "id": "40dde05a",
   "metadata": {},
   "outputs": [
    {
     "name": "stdout",
     "output_type": "stream",
     "text": [
      "(1,2)\n",
      "(3,4)\n",
      "(4,6)\n"
     ]
    }
   ],
   "source": [
    "#1번 문제\n",
    " \n",
    "class Point:\n",
    "    x=0\n",
    "    y=0\n",
    "    def __init__(self,a1,b1):\n",
    "        self.x=a1\n",
    "        self.y=b1\n",
    "    def show(self):\n",
    "        print(\"({0},{1})\".format(self.x,self.y))\n",
    "    def __add__(self,other):\n",
    "        self.x=self.x+other.x\n",
    "        self.y=self.y+other.y\n",
    "    \n",
    "a=Point(1,2)\n",
    "a.show()\n",
    "b=Point(3,4)\n",
    "b.show()\n",
    "a+b\n",
    "a.show()"
   ]
  },
  {
   "cell_type": "code",
   "execution_count": 72,
   "id": "ae8e1ceb",
   "metadata": {},
   "outputs": [
    {
     "name": "stdout",
     "output_type": "stream",
     "text": [
      "Max Week = 05/08 ~ 05/14\n"
     ]
    }
   ],
   "source": [
    "#2번문제\n",
    "import csv\n",
    "file=open('seoul.csv')\n",
    "data=csv.reader(file)\n",
    "header=next(data)\n",
    "diff=0\n",
    "day=0\n",
    "d_list=[]\n",
    "t_list=[]\n",
    "\n",
    "for row in data:\n",
    "    d_list.append(row[0])\n",
    "    row[-1]=float(row[-1])\n",
    "    row[-2]=float(row[-2])\n",
    "    t_list.append(row[-1]-row[-2])\n",
    "\n",
    "\n",
    "add=[]\n",
    "total=0\n",
    "for i in range(len(d_list)):\n",
    "    total+=t_list[i]\n",
    "    if i%6==0 and i!=0:\n",
    "        add.append(total)\n",
    "        total=0\n",
    "\n",
    "r1= d_list[add.index(max(add))*7]\n",
    "r2= d_list[add.index(max(add))*7+6]\n",
    "r1.split('-')[1]\n",
    "\n",
    "print(\"Max Week = {0}/{1} ~ {2}/{3}\".format(r1.split('-')[1],r1.split('-')[2],r2.split('-')[1],r2.split('-')[2]))"
   ]
  },
  {
   "cell_type": "code",
   "execution_count": null,
   "id": "fb3ba22c",
   "metadata": {},
   "outputs": [],
   "source": [
    "# 3번 문제\n"
   ]
  }
 ],
 "metadata": {
  "kernelspec": {
   "display_name": "Python 3",
   "language": "python",
   "name": "python3"
  },
  "language_info": {
   "codemirror_mode": {
    "name": "ipython",
    "version": 3
   },
   "file_extension": ".py",
   "mimetype": "text/x-python",
   "name": "python",
   "nbconvert_exporter": "python",
   "pygments_lexer": "ipython3",
   "version": "3.8.8"
  }
 },
 "nbformat": 4,
 "nbformat_minor": 5
}
