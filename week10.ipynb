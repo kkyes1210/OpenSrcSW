{
 "cells": [
  {
   "cell_type": "code",
   "execution_count": 1,
   "id": "cfed181d",
   "metadata": {},
   "outputs": [
    {
     "name": "stdout",
     "output_type": "stream",
     "text": [
      "Numbers? 10 456 87 78\n",
      "Max = 456\n"
     ]
    }
   ],
   "source": [
    "# 실습2 : 최대값 구하기 (숫자열을 입력 받아 최대값을 찾아내는 프로그램 작성)\n",
    "\n",
    "s_list = input('Numbers? ').split()\n",
    "for i in range(0, len(s_list)):\n",
    "    s_list[i]=int(s_list[i])\n",
    "print(\"Max = \" + str(max(s_list)))\n",
    "\n",
    "#s_list= map(int,input(\"Numbers? : \").split())"
   ]
  },
  {
   "cell_type": "code",
   "execution_count": 1,
   "id": "94b766f3",
   "metadata": {},
   "outputs": [
    {
     "name": "stdout",
     "output_type": "stream",
     "text": [
      "암호화하려면 1, 복호화하려면 2, 종료하려면 3을 입력하세요 : 1\n",
      "문자열 입력 : abc def\n",
      "efg bcd  \n",
      "암호화하려면 1, 복호화하려면 2, 종료하려면 3을 입력하세요 : 2\n",
      "문자열 입력 : efg bcd\n",
      "abc def  \n",
      "암호화하려면 1, 복호화하려면 2, 종료하려면 3을 입력하세요 : 3\n",
      "종료합니다.\n"
     ]
    }
   ],
   "source": [
    "# 실습3 : 암호화/복호화 (입력받은 문자열을 암호화/복호화)\n",
    "\n",
    "while(1):\n",
    "    i = int(input('암호화하려면 1, 복호화하려면 2, 종료하려면 3을 입력하세요 : '))\n",
    "    if i==3:\n",
    "        print(\"종료합니다.\")\n",
    "        break\n",
    "    else:\n",
    "        s=input('문자열 입력 : ')\n",
    "        t_str=\"\" \n",
    "        for j in range(0,len(s)):\n",
    "            if s[j]!=' ':\n",
    "                temp=ord(s[j])\n",
    "                if(i==1):\n",
    "                    temp+=1\n",
    "                else:\n",
    "                    temp-=1\n",
    "                temp=chr(temp)\n",
    "                t_str+=temp\n",
    "            else:\n",
    "                t_str+=' '\n",
    "        s_list=t_str.split()\n",
    "        s_list.reverse()\n",
    "        for k in range(0,len(s_list)):\n",
    "            print(s_list[k],end=' ')\n",
    "        print(' ')"
   ]
  },
  {
   "cell_type": "code",
   "execution_count": 1,
   "id": "ea4d0ec4",
   "metadata": {},
   "outputs": [
    {
     "name": "stdout",
     "output_type": "stream",
     "text": [
      "10개의 데이터를 입력하세요 : \n",
      "이름 / 전화번호 입력 : user1 010-1111-1111\n",
      "이름 / 전화번호 입력 : user2 010-2222-2222\n",
      "이름 / 전화번호 입력 : user3 010-3333-3333\n",
      "이름 / 전화번호 입력 : user4 010-4444-4444\n",
      "이름 / 전화번호 입력 : user5 010-5555-5555\n",
      "이름 / 전화번호 입력 : user6 010-6666-6666\n",
      "이름 / 전화번호 입력 : user7 010-7777-7777\n",
      "이름 / 전화번호 입력 : user8 010-8888-8888\n",
      "이름 / 전화번호 입력 : user9 010-9999-9999\n",
      "이름 / 전화번호 입력 : user10 010-1010-1010\n",
      "이름으로 검색하려면 1, 전화번호로 검색하려면 2, 종료하려면 3을 입력하세요 : 1\n",
      "이름 검색 : user1\n",
      "전화번호 : 010-1111-1111\n",
      "이름으로 검색하려면 1, 전화번호로 검색하려면 2, 종료하려면 3을 입력하세요 : 2\n",
      "전화번호 검색 : user7\n",
      "이름 : 존재하는 데이터가 없습니다.\n",
      "이름으로 검색하려면 1, 전화번호로 검색하려면 2, 종료하려면 3을 입력하세요 : 2\n",
      "전화번호 검색 : 010-7777-7777\n",
      "이름 : user7\n",
      "이름으로 검색하려면 1, 전화번호로 검색하려면 2, 종료하려면 3을 입력하세요 : 3\n"
     ]
    }
   ],
   "source": [
    "# 실습4 : 전화번호부 (10명의 이름과 전화번호를 입력받아 전화번호 사전을 만들고, 이름과 전화번호로 검색하는 프로그램 작성)\n",
    "def func(num, dic, val):\n",
    "    for key, value in dic.items():\n",
    "        if num==1:\n",
    "            if val == key:\n",
    "                return value\n",
    "        if num==2:\n",
    "            if val == value:\n",
    "                return key\n",
    "    return \"존재하는 데이터가 없습니다.\" \n",
    "\n",
    "dic = dict()\n",
    "\n",
    "print('10개의 데이터를 입력하세요 : ')\n",
    "for i in range(0, 10):\n",
    "    n = input('이름 / 전화번호 입력 : ')\n",
    "    n = n.split()\n",
    "    dic[n[0]] = n[1]\n",
    "\n",
    "while 1:\n",
    "    i = int(input('이름으로 검색하려면 1, 전화번호로 검색하려면 2, 종료하려면 3을 입력하세요 : '))\n",
    "    \n",
    "    if i == 3:\n",
    "        break\n",
    "    elif i == 1:\n",
    "        name = input('이름 검색 : ')\n",
    "        print('전화번호 : ' + func(i, dic, name))\n",
    "    elif i == 2:\n",
    "        phone = input('전화번호 검색 : ')\n",
    "        print('이름 : ' + func(i, dic, phone))"
   ]
  }
 ],
 "metadata": {
  "kernelspec": {
   "display_name": "Python 3",
   "language": "python",
   "name": "python3"
  },
  "language_info": {
   "codemirror_mode": {
    "name": "ipython",
    "version": 3
   },
   "file_extension": ".py",
   "mimetype": "text/x-python",
   "name": "python",
   "nbconvert_exporter": "python",
   "pygments_lexer": "ipython3",
   "version": "3.9.4"
  }
 },
 "nbformat": 4,
 "nbformat_minor": 5
}
