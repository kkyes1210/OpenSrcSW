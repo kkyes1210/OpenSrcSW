{
 "cells": [
  {
   "cell_type": "code",
   "execution_count": 1,
   "id": "3495d40c",
   "metadata": {},
   "outputs": [
    {
     "name": "stdout",
     "output_type": "stream",
     "text": [
      "cp test.txt copy.txt\n"
     ]
    }
   ],
   "source": [
    "# 실습6 : copy (Unix의 cp(copy)명령어를 python으로 구현)\n",
    "# 예 : cp file1 file2\n",
    "# file1의 내용을 file2에 복사 (file2는 새로 생성)\n",
    "\n",
    "inp = input()\n",
    "i_list = inp.split(' ')\n",
    "\n",
    "if i_list[0] == \"cp\":\n",
    "    file1 = open(i_list[1],'r')\n",
    "    file2 = open(i_list[2],'w')\n",
    "    while True:\n",
    "        line = file1.readline()\n",
    "        if not line: break\n",
    "        file2.write(line)\n",
    "    file1.close()\n",
    "    file2.close()"
   ]
  },
  {
   "cell_type": "code",
   "execution_count": 12,
   "id": "bf2c2a3a",
   "metadata": {},
   "outputs": [
    {
     "name": "stdout",
     "output_type": "stream",
     "text": [
      "wc test.txt\n",
      "num of line: 4\n",
      "num of word: 11\n"
     ]
    }
   ],
   "source": [
    "# 실습7 : wc (Unix의 wc명령어를 python으로 구현)\n",
    "# 예 : wc file1\n",
    "# file1의 라인 수, 단어 수를 구하여 출력 (단어는 공백으로 구분된 스트링이라 가정)\n",
    "\n",
    "inp = input()\n",
    "i_list = inp.split(' ')\n",
    "lines = 0\n",
    "words = 0\n",
    "\n",
    "if i_list[0] == \"wc\":\n",
    "    f = open(i_list[1], 'r')\n",
    "    while True:\n",
    "        line = f.readline()\n",
    "        if not line: break\n",
    "        lines+=1\n",
    "        i = line.split(' ')\n",
    "        words+=len(i)\n",
    "print(\"num of line: {0:d}\\nnum of word: {1:d}\".format(lines,words))       "
   ]
  },
  {
   "cell_type": "code",
   "execution_count": 20,
   "id": "a6c4259e",
   "metadata": {},
   "outputs": [
    {
     "name": "stdout",
     "output_type": "stream",
     "text": [
      "1 + 2 = 3.00 입니다.\n",
      "1 - 2 = -1.00 입니다.\n",
      "1 * 2 = 2.00 입니다.\n",
      "1 / 2 = 0.50 입니다.\n",
      "0으로 나눌수 없습니다.\n"
     ]
    }
   ],
   "source": [
    "# 실습8 : 사칙 연산 클래스\n",
    "\n",
    "# -*- coding: cp949 -*-\n",
    "class Calc:\n",
    "    def sum(self, a, b):\n",
    "        result = a + b\n",
    "        print(\"{0:d} + {1:d} = {2:.2f} 입니다.\".format(a,b,result))\n",
    "    def sub(self, a, b):\n",
    "        result = a - b\n",
    "        print(\"{0:d} - {1:d} = {2:.2f} 입니다.\".format(a,b,result))\n",
    "    def mul(self, a, b):\n",
    "        result = a * b\n",
    "        print(\"{0:d} * {1:d} = {2:.2f} 입니다.\".format(a,b,result))\n",
    "    def div(self, a, b):\n",
    "        if b != 0:\n",
    "            result = a / b\n",
    "            print(\"{0:d} / {1:d} = {2:.2f} 입니다.\".format(a,b,result))\n",
    "        else:\n",
    "            print(\"0으로 나눌수 없습니다.\")    \n",
    "    \n",
    "if __name__ == \"__main__\":\n",
    "    calc = Calc()\n",
    "    calc.sum(1,2)\n",
    "    calc.sub(1,2)\n",
    "    calc.mul(1,2)\n",
    "    calc.div(1,2)\n",
    "    calc.div(1,0)"
   ]
  },
  {
   "cell_type": "code",
   "execution_count": 50,
   "id": "eede5a50",
   "metadata": {},
   "outputs": [
    {
     "name": "stdout",
     "output_type": "stream",
     "text": [
      "1 + 2 - 3 * 4 + 5\n",
      "1+2-3*4+5=-4.0\n"
     ]
    }
   ],
   "source": [
    "# 실습9 : 계산기(공백으로 구분되어 있는 계산식을 입력하면 스택을 이용하여 계산을 수행하고 그 결과를 출력하는 파이썬 프로그램 작성)\n",
    "\n",
    "class Stack:\n",
    "    def __init__(self):\n",
    "        self.stack = []\n",
    "    def push(self, data):\n",
    "        self.stack.append(data)\n",
    "    def pop(self):\n",
    "        return self.stack.pop()\n",
    "    def front(self):\n",
    "        return self.stack[len(self.stack)-1]\n",
    "    def empty(self):\n",
    "        if len(self.stack)==0:\n",
    "            return True\n",
    "    \n",
    "def cal(n1, n2, op):\n",
    "    if op == '+':\n",
    "        return n1 + n2\n",
    "    elif op == '-':\n",
    "        return n1 - n2\n",
    "    elif op == '*':\n",
    "        return n1 * n2\n",
    "    elif op == '/':\n",
    "        return n1 / n2\n",
    "    \n",
    "if __name__ == \"__main__\":\n",
    "    inp = input()\n",
    "    i_list=inp.split(' ')\n",
    "    num = Stack()\n",
    "    op = Stack()\n",
    "    for i in i_list:\n",
    "        if i=='*' or i=='/' or i=='+' or i=='-':\n",
    "            op.push(i)\n",
    "        else:\n",
    "            if op.empty():    \n",
    "                num.push(float(i))\n",
    "            else:\n",
    "                if op.front()=='*' or op.front()=='/':\n",
    "                    n2 = float(i)\n",
    "                    n1 = float(num.front())\n",
    "                    num.pop()\n",
    "                    num.push(cal(n1,n2,op.front()))\n",
    "                    op.pop()\n",
    "                else:\n",
    "                    if len(op.stack) == 2:\n",
    "                        p = op.front()\n",
    "                        op.pop()\n",
    "                        n2 = num.front()\n",
    "                        num.pop()\n",
    "                        n1 = num.front()\n",
    "                        num.pop()\n",
    "                        num.push(cal(n1,n2,op.front()))\n",
    "                        num.push(float(i))\n",
    "                        op.pop()\n",
    "                        op.push(p)\n",
    "                    else:\n",
    "                        num.push(float(i))\n",
    "    if len(op.stack)==1:\n",
    "        n2 = num.front()\n",
    "        num.pop()\n",
    "        n1 = num.front()\n",
    "        num.pop()\n",
    "        num.push(cal(n1,n2,op.front()))\n",
    "    print(inp.replace(' ','')+\"=\"+str(num.front()))"
   ]
  }
 ],
 "metadata": {
  "kernelspec": {
   "display_name": "Python 3",
   "language": "python",
   "name": "python3"
  },
  "language_info": {
   "codemirror_mode": {
    "name": "ipython",
    "version": 3
   },
   "file_extension": ".py",
   "mimetype": "text/x-python",
   "name": "python",
   "nbconvert_exporter": "python",
   "pygments_lexer": "ipython3",
   "version": "3.9.4"
  }
 },
 "nbformat": 4,
 "nbformat_minor": 5
}
