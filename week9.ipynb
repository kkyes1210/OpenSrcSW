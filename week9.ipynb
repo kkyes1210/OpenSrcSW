{
 "cells": [
  {
   "cell_type": "code",
   "execution_count": 8,
   "id": "a8352102",
   "metadata": {},
   "outputs": [
    {
     "name": "stdout",
     "output_type": "stream",
     "text": [
      "x 값 입력 : 5\n",
      "103.0\n"
     ]
    }
   ],
   "source": [
    "# 실습 #1: 수치계산 -1\n",
    "# x값을 입력받아 2차 방정식의 y값을 계산하는 프로그램을 작성\n",
    "# y = 3x^2+5x+3\n",
    "\n",
    "x = float (input(\"x 값 입력 : \"))\n",
    "y= (3*x*x+5*x+3)\n",
    "print(y)"
   ]
  },
  {
   "cell_type": "code",
   "execution_count": 9,
   "id": "c3a6ba5d",
   "metadata": {},
   "outputs": [
    {
     "name": "stdout",
     "output_type": "stream",
     "text": [
      "반지름 입력 : 3\n",
      "원의 둘레 : 18.84 원의 넓이 : 28.26\n"
     ]
    }
   ],
   "source": [
    "# 실습 #1: 수치계산 -2\n",
    "# 반지름을 입력 받아 원의 둘레와 넓이를 구하는 프로그램을 작성\n",
    "\n",
    "r = float (input(\"반지름 입력 : \"))\n",
    "pi = 3.14\n",
    "l = 2*pi*r\n",
    "s = pi*r*r\n",
    "print(\"원의 둘레 : {0:.2f} 원의 넓이 : {1:.2f}\".format(l,s))"
   ]
  }
 ],
 "metadata": {
  "kernelspec": {
   "display_name": "Python 3",
   "language": "python",
   "name": "python3"
  },
  "language_info": {
   "codemirror_mode": {
    "name": "ipython",
    "version": 3
   },
   "file_extension": ".py",
   "mimetype": "text/x-python",
   "name": "python",
   "nbconvert_exporter": "python",
   "pygments_lexer": "ipython3",
   "version": "3.9.4"
  }
 },
 "nbformat": 4,
 "nbformat_minor": 5
}
